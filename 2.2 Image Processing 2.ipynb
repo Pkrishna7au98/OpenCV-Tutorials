{
 "cells": [
  {
   "cell_type": "markdown",
   "id": "802f5743",
   "metadata": {},
   "source": [
    "### Scaling, Rotating, Shifting and Edge Detection"
   ]
  },
  {
   "cell_type": "code",
   "execution_count": 1,
   "id": "9417ac45",
   "metadata": {},
   "outputs": [],
   "source": [
    "import cv2"
   ]
  },
  {
   "cell_type": "code",
   "execution_count": 2,
   "id": "7b4ab041",
   "metadata": {},
   "outputs": [],
   "source": [
    "#Scaling an Image \n",
    "\n",
    "#Scaling operation increases/reduces size of an image.\n",
    "\n",
    "image = cv2.imread('cvdata/gray.png')\n",
    "\n",
    "w,h = image.shape[:2]\n",
    "\n",
    "image1 = cv2.resize(image, (int(w/2) , int(h/2)), interpolation = cv2.INTER_CUBIC)\n",
    "cv2.imshow('scaled', image1)\n",
    "cv2.waitKey(0)\n",
    "cv2.destroyAllWindows()\n",
    "\n"
   ]
  },
  {
   "cell_type": "code",
   "execution_count": 3,
   "id": "9448ca30",
   "metadata": {},
   "outputs": [],
   "source": [
    "#Rotating a Image\n",
    "\n",
    "image = cv2.imread('cvdata/erode.png')\n",
    "\n",
    "w,h = image.shape[:2]\n",
    "\n",
    "matrix = cv2.getRotationMatrix2D((100,100), 5,1)\n",
    "affined = cv2.warpAffine(image, matrix,(w,h))\n",
    "cv2.imshow('rotated', affined)\n",
    "cv2.waitKey(0)\n",
    "cv2.destroyAllWindows()\n"
   ]
  },
  {
   "cell_type": "code",
   "execution_count": 4,
   "id": "b7ce6057",
   "metadata": {},
   "outputs": [],
   "source": [
    "#Translating/Shifting a Image\n",
    "\n",
    "#Before we begin we need to define the translation matrix M\n",
    "# so, if we want to shift the image by (x,y), then the matrix would be as shown below\n",
    "#    [1 0 x]\n",
    "#    [0 1 y]      \n",
    "\n",
    "# so to get this 2d array and store in M , we can use the numpy operation\n",
    "\n",
    "image = cv2.imread('cvdata/erode.png')\n",
    "\n",
    "col,row = image.shape[:2]\n",
    "\n",
    "import numpy as np\n",
    "\n",
    "M = np.float32([[1,0,50],[0,1,70]])    #here we took x=50 and y=70\n",
    "\n",
    "translated_image = cv2.warpAffine(image , M , (col , row))\n",
    "cv2.imshow('translated', translated_image)\n",
    "cv2.waitKey(0)\n",
    "cv2.destroyAllWindows()\n",
    "\n"
   ]
  },
  {
   "cell_type": "code",
   "execution_count": 5,
   "id": "640afa16",
   "metadata": {},
   "outputs": [],
   "source": [
    "# Edge Detection in a image\n",
    "\n",
    "image = cv2.imread('cvdata/chinu.jpg')\n",
    "\n",
    "edged = cv2.Canny(image,50,200)\n",
    "\n",
    "cv2.imshow('edged_image', edged)\n",
    "cv2.waitKey(0)\n",
    "cv2.destroyAllWindows()"
   ]
  },
  {
   "cell_type": "markdown",
   "id": "5d50f05a",
   "metadata": {},
   "source": [
    "##### Morphological Operations : Erosion and Dilation"
   ]
  },
  {
   "cell_type": "code",
   "execution_count": 6,
   "id": "977a09d1",
   "metadata": {},
   "outputs": [],
   "source": [
    "image = cv2.imread('cvdata/morph.jpg')\n",
    "cv2.imshow('original', image)\n",
    "cv2.waitKey(0)\n",
    "\n",
    "#we need the structuring element, so lets create it using the numpy ones matrix\n",
    "\n",
    "import numpy as np\n",
    "\n",
    "kernel1 = np.ones((5,5), np.uint8)\n",
    "kernel2 = np.zeros((5,5), np.uint8) #Need to study this, and its working\n",
    "\n",
    "try:\n",
    "    eroded = cv2.erode(image, kernel1, iterations= 5)\n",
    "    cv2.imshow('eroded', eroded)\n",
    "    cv2.waitKey(0)\n",
    "\n",
    "    dilated = cv2.dilate(image,kernel1, iterations = 5)\n",
    "    cv2.imshow('dilated', dilated)\n",
    "    cv2.waitKey(0)\n",
    "    cv2.destroyAllWindows()\n",
    "except:\n",
    "    print('ERROR OCCURED: Check the code again')\n"
   ]
  },
  {
   "cell_type": "markdown",
   "id": "93f32615",
   "metadata": {},
   "source": [
    "##### Analyze an image using Histograms\n",
    "\n",
    "###### The image should be used in a PNG file as matplotlib supports only PNG images."
   ]
  },
  {
   "cell_type": "code",
   "execution_count": 8,
   "id": "b9596672",
   "metadata": {},
   "outputs": [
    {
     "name": "stdout",
     "output_type": "stream",
     "text": [
      "What type of histogram you want to see?, From OpenCV Press 1 and From Pyplot Press 2 : 2\n"
     ]
    },
    {
     "data": {
      "image/png": "[encoded data removed]",
      "text/plain": [
       "<Figure size 432x288 with 1 Axes>"
      ]
     },
     "metadata": {
      "needs_background": "light"
     },
     "output_type": "display_data"
    }
   ],
   "source": [
    "image = cv2.imread('cvdata/hist.png',0)\n",
    "cv2.imshow('original', image)\n",
    "cv2.waitKey(3000)\n",
    "cv2.destroyAllWindows()\n",
    "\n",
    "import matplotlib.pyplot as plt\n",
    "\n",
    "hist1= cv2.calcHist([image], [0],None, [256] , [0,256])\n",
    "hist2= cv2.calcHist([image], [0],None, [32], [0,256])\n",
    "hist3= cv2.calcHist([image], [0],None, [256] , [0,32])\n",
    "\n",
    "plots = [hist1, hist2, hist3]\n",
    "\n",
    "key = int(input(\"What type of histogram you want to see?, From OpenCV Press 1 and From Pyplot Press 2 : \"))\n",
    "\n",
    "if  key == 1:    \n",
    "    plt.plot(hist1)\n",
    "    plt.plot(hist2)\n",
    "    plt.plot(hist3)\n",
    "\n",
    "elif key == 2:\n",
    "    #Histogram with matplotlib.pyplot\n",
    "    pyhist = plt.hist(image.ravel(),256,[0,256])\n",
    "else:\n",
    "    print(\"Input Error : Plese check the key entered\")\n",
    "plt.show()"
   ]
  },
  {
   "cell_type": "markdown",
   "id": "327eb8e3",
   "metadata": {},
   "source": [
    "##### Histogram Equalization"
   ]
  },
  {
   "cell_type": "code",
   "execution_count": 16,
   "id": "bb4cee7e",
   "metadata": {},
   "outputs": [],
   "source": [
    "image = cv2.imread('cvdata/chinu.jpg',0)\n",
    "\n",
    "equalized = cv2.equalizeHist(image)\n",
    "\n",
    "stacked = np.hstack((image, equalized))\n",
    "\n",
    "cv2.imshow('stacked_images', stacked)\n",
    "cv2.waitKey(0)\n",
    "cv2.destroyAllWindows()"
   ]
  },
  {
   "cell_type": "markdown",
   "id": "4a706fa3",
   "metadata": {},
   "source": [
    "### Thresholding Techniques"
   ]
  },
  {
   "cell_type": "raw",
   "id": "48914311",
   "metadata": {},
   "source": [
    "cv2.destroyAllWindows()In thresholding, each pixel value is compared with the threshold value. If the pixel value is smaller than the threshold, it is set to 0, otherwise, it is set to a maximum value (generally 255). Thresholding is a very popular segmentation technique, used for separating an object considered as a foreground from its background."
   ]
  },
  {
   "cell_type": "markdown",
   "id": "9453898f",
   "metadata": {},
   "source": [
    "##### Set-1 (Simple Thresholding)"
   ]
  },
  {
   "cell_type": "code",
   "execution_count": 45,
   "id": "8df7143d",
   "metadata": {},
   "outputs": [],
   "source": [
    "image = cv2.imread('cvdata/chinu.jpg',0)\n",
    "\n",
    "a, thres1 = cv2.threshold(image, 100 , 255 , cv2.THRESH_BINARY)\n",
    "a, thres2 = cv2.threshold(image, 150 , 255 , cv2.THRESH_BINARY_INV)\n",
    "a, thres3 = cv2.threshold(image, 150 , 255 , cv2.THRESH_TOZERO_INV)\n",
    "a, thres4 = cv2.threshold(image, 120 , 255 , cv2.THRESH_TRUNC)\n",
    "a, thres5 = cv2.threshold(image, 180 , 255 , cv2.THRESH_TOZERO)\n",
    "\n",
    "#The output of this threshold value is a tuple where the first value show the given threshold value\n",
    "#and the second value is the modified array of image\n",
    "\n",
    "\n",
    "\n",
    "stack = [thres1, thres2, thres3, thres4, thres5]\n",
    "from time import sleep\n",
    "\n",
    "for i in range(5):\n",
    "    cv2.imshow(\"image{}\".format(i+1) , stack[i])\n",
    "    cv2.waitKey(0)\n",
    "cv2.destroyAllWindows()"
   ]
  },
  {
   "cell_type": "markdown",
   "id": "f8d4c858",
   "metadata": {},
   "source": [
    "##### Set-2 (Adaptive Thresholding)"
   ]
  },
  {
   "cell_type": "code",
   "execution_count": 60,
   "id": "048267cb",
   "metadata": {},
   "outputs": [],
   "source": [
    "image = cv2.imread('cvdata/adthres.jpg',0)\n",
    "\n",
    "AdThres1 = cv2.adaptiveThreshold(image,255 , cv2.ADAPTIVE_THRESH_MEAN_C,cv2.THRESH_BINARY , 71 , 5)\n",
    "AdThres2 = cv2.adaptiveThreshold(image,255 , cv2.ADAPTIVE_THRESH_GAUSSIAN_C,cv2.THRESH_BINARY , 71 , 5)\n",
    "\n",
    "stack = np.hstack((image,AdThres1, AdThres2))\n",
    "\n",
    "cv2.imshow('Adaptive_Thresholded_Images', stack)\n",
    "cv2.waitKey(0)\n",
    "cv2.destroyAllWindows()"
   ]
  },
  {
   "cell_type": "markdown",
   "id": "96266892",
   "metadata": {},
   "source": [
    "##### Set-3 (Otsu Thresholding)"
   ]
  },
  {
   "cell_type": "code",
   "execution_count": 64,
   "id": "29255548",
   "metadata": {},
   "outputs": [],
   "source": [
    "image = cv2.imread('cvdata/otsu.png',0)\n",
    "\n",
    "a, thres = cv2.threshold(image, 100 , 255 , cv2.THRESH_OTSU)\n",
    "\n",
    "cv2.imshow(\"original_Image\" , image)\n",
    "cv2.waitKey(0)  \n",
    "cv2.imshow(\"Otsu_threshold\" , thres)\n",
    "cv2.waitKey(0)    \n",
    "cv2.destroyAllWindows()"
   ]
  },
  {
   "cell_type": "markdown",
   "id": "57ea8d42",
   "metadata": {},
   "source": []
  },
  {
   "cell_type": "code",
   "execution_count": null,
   "id": "6d435bcb",
   "metadata": {},
   "outputs": [],
   "source": []
  }
 ],
 "metadata": {
  "kernelspec": {
   "display_name": "Python 3",
   "language": "python",
   "name": "python3"
  },
  "language_info": {
   "codemirror_mode": {
    "name": "ipython",
    "version": 3
   },
   "file_extension": ".py",
   "mimetype": "text/x-python",
   "name": "python",
   "nbconvert_exporter": "python",
   "pygments_lexer": "ipython3",
   "version": "3.8.8"
  }
 },
 "nbformat": 4,
 "nbformat_minor": 5
}
