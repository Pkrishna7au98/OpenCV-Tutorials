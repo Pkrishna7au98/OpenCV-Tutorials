{
 "cells": [
  {
   "cell_type": "code",
   "execution_count": 2,
   "id": "73f282f3",
   "metadata": {},
   "outputs": [],
   "source": [
    "import cv2"
   ]
  },
  {
   "cell_type": "markdown",
   "id": "1f3736bc",
   "metadata": {},
   "source": [
    "#### Reading and showing"
   ]
  },
  {
   "cell_type": "code",
   "execution_count": 3,
   "id": "4a11714f",
   "metadata": {},
   "outputs": [],
   "source": [
    "img = cv2.imread('cvdata/im2.jpg', 0)\n",
    "cv2.imshow('krishna', img)\n",
    "cv2.waitKey(6000) \n",
    "cv2.destroyAllWindows()"
   ]
  },
  {
   "cell_type": "markdown",
   "id": "52e12e03",
   "metadata": {},
   "source": [
    "#### Resize and Rotate image"
   ]
  },
  {
   "cell_type": "code",
   "execution_count": 4,
   "id": "553e4ef4",
   "metadata": {},
   "outputs": [],
   "source": [
    "img = cv2.resize(img, (0 , 0) , fx = 0.5 , fy = 1.5)\n",
    "cv2.imshow('krishna', img)\n",
    "cv2.waitKey(4000) \n",
    "cv2.destroyAllWindows()"
   ]
  },
  {
   "cell_type": "code",
   "execution_count": 5,
   "id": "b4a4345b",
   "metadata": {},
   "outputs": [],
   "source": [
    "img = cv2.rotate(img, cv2.cv2.ROTATE_90_COUNTERCLOCKWISE)\n",
    "cv2.imshow('krishna', img)\n",
    "cv2.waitKey(4000) \n",
    "cv2.destroyAllWindows()"
   ]
  },
  {
   "cell_type": "markdown",
   "id": "d6d6fc3b",
   "metadata": {},
   "source": [
    "#### Writing files"
   ]
  },
  {
   "cell_type": "code",
   "execution_count": 6,
   "id": "1edcc7d6",
   "metadata": {},
   "outputs": [],
   "source": [
    "img1 = cv2.imread('cvdata/im1.jpg', 0)\n",
    "img =  cv2.imwrite('new_img.jpg', img1)"
   ]
  },
  {
   "cell_type": "code",
   "execution_count": 7,
   "id": "7935ae76",
   "metadata": {},
   "outputs": [],
   "source": [
    "cv2.imshow('new_image_written',img)\n",
    "cv2.waitKey(6000) \n",
    "cv2.destroyAllWindows()"
   ]
  },
  {
   "cell_type": "code",
   "execution_count": 8,
   "id": "067a2f53",
   "metadata": {},
   "outputs": [
    {
     "name": "stdout",
     "output_type": "stream",
     "text": [
      "height = 251 , width = 201\n"
     ]
    }
   ],
   "source": [
    "h,w = img1.shape[:2]  #extracting the height and width of image\n",
    "print(\"height = {} , width = {}\".format(h, w))"
   ]
  },
  {
   "cell_type": "code",
   "execution_count": 9,
   "id": "649b5532",
   "metadata": {},
   "outputs": [
    {
     "name": "stdout",
     "output_type": "stream",
     "text": [
      "B=69, G=88,R=125\n"
     ]
    }
   ],
   "source": [
    "#Extracting the pixel values of a image (color scale must not be given -1,0,1)\n",
    "\n",
    "img1 = cv2.imread('cvdata/im1.jpg')\n",
    "(B,G,R) = img1[140,200]\n",
    "print(\"B={}, G={},R={}\".format(B,G,R))"
   ]
  },
  {
   "cell_type": "code",
   "execution_count": 10,
   "id": "919a5c57",
   "metadata": {},
   "outputs": [],
   "source": [
    "#Extracting the Region of interest\n",
    "\n",
    "img1 = cv2.imread('cvdata/im1.jpg')\n",
    "ROI = img1[10:200 , 100:200]\n",
    "cv2.imshow(\"IMAGE\",ROI)\n",
    "cv2.waitKey(4000) \n",
    "cv2.destroyAllWindows()\n",
    "\n",
    "\n",
    "#Here in all above images the aspect ratio is not maintained"
   ]
  },
  {
   "cell_type": "code",
   "execution_count": 11,
   "id": "2d988192",
   "metadata": {},
   "outputs": [],
   "source": [
    "#So to maintain the aspect ration we can do this\n",
    "\n",
    "ratio = 201 / w\n",
    "\n",
    "dim  = (201, int(h*ratio))\n",
    "\n",
    "cv2.resize(ROI, dim)\n",
    "cv2.imshow('name',ROI)\n",
    "cv2.waitKey(0)\n",
    "cv2.destroyAllWindows()"
   ]
  },
  {
   "cell_type": "code",
   "execution_count": 12,
   "id": "c3fdd00e",
   "metadata": {},
   "outputs": [],
   "source": [
    "#Rotating image with its center and at a custom angle\n",
    "\n",
    "#calculating the center\n",
    "\n",
    "center = (h//2 , w//2) #we are ignoring the part after integer value\n",
    "\n",
    "#Generating a rotation matrix\n",
    "matrix = cv2.getRotationMatrix2D(center, -45,1)\n",
    "\n",
    "#Affine Transformation\n",
    "\n",
    "rotated_image = cv2.warpAffine(ROI, matrix , (h,w))\n",
    "\n",
    "cv2.imshow('kris', rotated_image)\n",
    "cv2.waitKey(0)\n",
    "cv2.destroyAllWindows()"
   ]
  },
  {
   "cell_type": "code",
   "execution_count": 13,
   "id": "e1a3de0b",
   "metadata": {},
   "outputs": [],
   "source": [
    "#Drawing a rectangle\n",
    "\n",
    "copied = img1.copy()\n",
    "\n",
    "rectangle = cv2.rectangle(copied , (50,200), (150,50),(44,0,0),2)"
   ]
  },
  {
   "cell_type": "code",
   "execution_count": 14,
   "id": "34d68cb9",
   "metadata": {},
   "outputs": [],
   "source": [
    "cv2.imshow('rect', copied)\n",
    "cv2.waitKey(0)\n",
    "cv2.destroyAllWindows()"
   ]
  },
  {
   "cell_type": "code",
   "execution_count": 15,
   "id": "0104557a",
   "metadata": {},
   "outputs": [],
   "source": [
    "#Displaying Text over a image\n",
    "\n",
    "copied1 = img1.copy()\n",
    "\n",
    "texted_image = cv2.putText(copied1 , 'I am lonely' , (40, 200), cv2.FONT_HERSHEY_DUPLEX ,.7, (177 , 0 , 0), 2  )\n",
    "cv2.imshow('texted', texted_image)\n",
    "cv2.waitKey(0)\n",
    "cv2.destroyAllWindows()\n"
   ]
  },
  {
   "cell_type": "code",
   "execution_count": 28,
   "id": "c6d62235",
   "metadata": {},
   "outputs": [],
   "source": [
    "#COLOR SPACES\n",
    "#it is used to split the images in the base colors BGR\n",
    "\n",
    "image = cv2.imread('cvdata/im3.jpg')\n",
    "\n",
    "B,G,R = cv2.split(image)\n",
    "\n",
    "cv2.imshow(\"Original\", image)\n",
    "cv2.waitKey(3000)\n",
    "\n",
    "cv2.imshow(\"Blue\", B)\n",
    "cv2.waitKey(3000)\n",
    "\n",
    "cv2.imshow(\"Green\", G)\n",
    "cv2.waitKey(3000)\n",
    "\n",
    "cv2.imshow(\"Red\", R)\n",
    "cv2.waitKey(3000)\n",
    "\n",
    "cv2.destroyAllWindows()"
   ]
  },
  {
   "cell_type": "code",
   "execution_count": 30,
   "id": "9e6eaf95",
   "metadata": {},
   "outputs": [],
   "source": [
    "#AIRTHMATIC OPERATIONS ON THE IMAGES\n",
    "#Arithmetic Operations like Addition, Subtraction\n",
    "\n",
    "\"\"\"\n",
    "Parameters:\n",
    "img1: First Input Image array(Single-channel, 8-bit or floating-point)\n",
    "wt1: Weight of the first input image elements to be applied to the final image\n",
    "img2: Second Input Image array(Single-channel, 8-bit or floating-point)\n",
    "wt2: Weight of the second input image elements to be applied to the final image\n",
    "gammaValue: Measurement of light\n",
    "\n",
    "wt1, wt2 can be max 1. \n",
    "\n",
    "\"\"\"\n",
    "\n",
    "#Addition of Images\n",
    "\n",
    "add1 = cv2.imread('cvdata/add1.jpg')\n",
    "add2 = cv2.imread('cvdata/add2.jpg')\n",
    "\n",
    "added_image = cv2.addWeighted(add1, 0.8 , add2, 0.5,0)\n",
    "\n",
    "cv2.imshow('add_image', added_image)\n",
    "cv2.waitKey(0)\n",
    "cv2.destroyAllWindows()\n",
    "\n",
    "#Subtraction of Images\n",
    "\n",
    "sub1 = cv2.imread('cvdata/sub1.jpg')\n",
    "sub2 = cv2.imread('cvdata/sub2.jpg')\n",
    "\n",
    "subtracted = cv2.subtract(sub1, sub2)\n",
    "cv2.imshow(\"Subtracted_image\" , subtracted)\n",
    "cv2.waitKey(0)\n",
    "cv2.destroyAllWindows()"
   ]
  },
  {
   "cell_type": "code",
   "execution_count": 35,
   "id": "87fec345",
   "metadata": {},
   "outputs": [],
   "source": [
    "#BITWISE OPERATIONS ON BINARY IMAGES (AND, OR, NOT, XOR)\n",
    "\n",
    "bit1 = cv2.imread('cvdata/bit1.png')\n",
    "bit2 = cv2.imread('cvdata/bit2.png')\n",
    "\n",
    "#AND\n",
    "bitwise_and = cv2.bitwise_and(bit2 , bit1, mask = None)\n",
    "cv2.imshow('bitwise_and', bitwise_and)\n",
    "cv2.waitKey(0)\n",
    "\n",
    "#OR\n",
    "bitwise_or = cv2.bitwise_or(bit2 , bit1, mask = None)\n",
    "cv2.imshow('or', bitwise_or)\n",
    "cv2.waitKey(0)\n",
    "\n",
    "#XOR\n",
    "bitwise_xor = cv2.bitwise_xor(bit2, bit1 , mask = None)\n",
    "cv2.imshow('xor', bitwise_xor)\n",
    "cv2.waitKey(0)\n",
    "\n",
    "#NOT\n",
    "bitwise_not1 = cv2.bitwise_not(bit1, mask = None)\n",
    "bitwise_not2 = cv2.bitwise_not(bit2, mask = None)\n",
    "cv2.imshow('not1', bitwise_not1)\n",
    "cv2.waitKey(0)\n",
    "cv2.imshow('not2', bitwise_not2)\n",
    "cv2.waitKey(0)\n",
    "\n",
    "cv2.destroyAllWindows()\n"
   ]
  },
  {
   "cell_type": "code",
   "execution_count": null,
   "id": "b923e435",
   "metadata": {},
   "outputs": [],
   "source": []
  },
  {
   "cell_type": "code",
   "execution_count": null,
   "id": "08b42061",
   "metadata": {},
   "outputs": [],
   "source": []
  }
 ],
 "metadata": {
  "kernelspec": {
   "display_name": "Python 3",
   "language": "python",
   "name": "python3"
  },
  "language_info": {
   "codemirror_mode": {
    "name": "ipython",
    "version": 3
   },
   "file_extension": ".py",
   "mimetype": "text/x-python",
   "name": "python",
   "nbconvert_exporter": "python",
   "pygments_lexer": "ipython3",
   "version": "3.8.8"
  }
 },
 "nbformat": 4,
 "nbformat_minor": 5
}
