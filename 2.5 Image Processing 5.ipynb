{
 "cells": [
  {
   "cell_type": "markdown",
   "id": "39bafc03",
   "metadata": {},
   "source": [
    "### Morphological Operations in a image"
   ]
  },
  {
   "cell_type": "raw",
   "id": "b153bc0b",
   "metadata": {},
   "source": [
    "https://www.youtube.com/watch?v=P8JRZ4t7EOI"
   ]
  },
  {
   "cell_type": "markdown",
   "id": "72ca64aa",
   "metadata": {},
   "source": [
    "#### Opening"
   ]
  },
  {
   "cell_type": "raw",
   "id": "92b7e648",
   "metadata": {},
   "source": [
    "#We  can directly apply the opening process over a Binary image but lets make this code a little big \n",
    "by creating mask, so that we get a mask which is obviously in binary format, and then apply our main \n",
    "task which is OPENING"
   ]
  },
  {
   "cell_type": "code",
   "execution_count": 1,
   "id": "20902a42",
   "metadata": {},
   "outputs": [],
   "source": [
    "import cv2\n",
    "import numpy as np\n",
    "import matplotlib.pyplot as plt"
   ]
  },
  {
   "cell_type": "code",
   "execution_count": 2,
   "id": "8fa38aee",
   "metadata": {},
   "outputs": [],
   "source": [
    "image = cv2.imread('cvdata/open.png')\n",
    "\n",
    "#Converting this to HSV for creating mask\n",
    "hsv = cv2.cvtColor(image, cv2.COLOR_BGR2HSV)\n",
    "\n",
    "#Defining limits of the blue color\n",
    "#Why Blue? (The system recognizes the defined blue book (our input image) as the input as removes \n",
    "#and simplifies the internal noise in the region of interest with the help of the Opening function.)\n",
    "\n",
    "B_low =  np.array([110, 50 ,50])\n",
    "B_high =  np.array([130, 255 ,255])\n",
    "\n",
    "#Creating the mask\n",
    "mask = cv2.inRange(hsv,B_low ,B_high)\n",
    "\n",
    "cv2.imshow('mask', mask)\n",
    "cv2.waitKey(0)\n",
    "\n",
    "#Defining the kernel\n",
    "kernels = [(3,3),(5,5),(7,7)]\n",
    "\n",
    "\n",
    "for i in kernels:\n",
    "    kernel = np.ones(i ,np.uint8)\n",
    "    opening = cv2.morphologyEx(mask, cv2.MORPH_OPEN , kernel)\n",
    "    cv2.imshow('Opening_K{}'.format(str(i)) , opening)\n",
    "    cv2.waitKey(0)\n",
    "    \n",
    "cv2.destroyAllWindows()\n"
   ]
  },
  {
   "cell_type": "markdown",
   "id": "ef3e9d0c",
   "metadata": {},
   "source": [
    "#### Closing"
   ]
  },
  {
   "cell_type": "raw",
   "id": "96b4c7e7",
   "metadata": {},
   "source": [
    "Closing is all similar to opening but first the Dilation and then Erosion, for that we just need to change one parameter and obviously the names suggesting the changes. the one parameter needed to be changed is the morphologicla operation which is cv2.MORPH_CLOSE"
   ]
  },
  {
   "cell_type": "code",
   "execution_count": 3,
   "id": "07c273de",
   "metadata": {},
   "outputs": [],
   "source": [
    "image = cv2.imread('cvdata/open.png')\n",
    "\n",
    "#Converting this to HSV for creating mask\n",
    "hsv = cv2.cvtColor(image, cv2.COLOR_BGR2HSV)\n",
    "\n",
    "#Defining limits of the blue color\n",
    "#Why Blue? (The system recognizes the defined blue book (our input image) as the input as removes \n",
    "#and simplifies the internal noise in the region of interest with the help of the Opening function.)\n",
    "\n",
    "B_low =  np.array([110, 50 ,50])\n",
    "B_high =  np.array([130, 255 ,255])\n",
    "\n",
    "#Creating the mask\n",
    "mask = cv2.inRange(hsv,B_low ,B_high)\n",
    "\n",
    "cv2.imshow('mask', mask)\n",
    "cv2.waitKey(0)\n",
    "\n",
    "#Defining the kernel\n",
    "kernels = [(3,3),(5,5),(7,7)]\n",
    "\n",
    "\n",
    "for i in kernels:\n",
    "    kernel = np.ones(i ,np.uint8)\n",
    "    closing = cv2.morphologyEx(mask, cv2.MORPH_CLOSE , kernel)\n",
    "    cv2.imshow('Closing_K{}'.format(str(i)) , closing)\n",
    "    cv2.waitKey(0)\n",
    "    \n",
    "cv2.destroyAllWindows()"
   ]
  },
  {
   "cell_type": "markdown",
   "id": "aee1b742",
   "metadata": {},
   "source": [
    "#### Gradient"
   ]
  },
  {
   "cell_type": "raw",
   "id": "47970299",
   "metadata": {},
   "source": [
    "Its also the same process as above but just the morphological operation parameter need to be changed.\n",
    "which is cv2.MORHP_GRADIENT . "
   ]
  },
  {
   "cell_type": "code",
   "execution_count": 4,
   "id": "af174997",
   "metadata": {},
   "outputs": [
    {
     "name": "stdout",
     "output_type": "stream",
     "text": [
      "The output image frames show the outline generated over the blue book and the blue object in top left.\n"
     ]
    }
   ],
   "source": [
    "image = cv2.imread('cvdata/open.png')\n",
    "\n",
    "#Converting this to HSV for creating mask\n",
    "hsv = cv2.cvtColor(image, cv2.COLOR_BGR2HSV)\n",
    "\n",
    "#Defining limits of the blue color\n",
    "#Why Blue? (The system recognizes the defined blue book (our input image) as the input as removes \n",
    "#and simplifies the internal noise in the region of interest with the help of the Opening function.)\n",
    "\n",
    "B_low =  np.array([110, 50 ,50])\n",
    "B_high =  np.array([130, 255 ,255])\n",
    "\n",
    "#Creating the mask\n",
    "mask = cv2.inRange(hsv,B_low ,B_high)\n",
    "\n",
    "cv2.imshow('mask', mask)\n",
    "cv2.waitKey(0)\n",
    "\n",
    "#Defining the kernel\n",
    "kernels = [(2,2),(4,4),(6,6)]\n",
    "\n",
    "\n",
    "for i in kernels:\n",
    "    kernel = np.ones(i ,np.uint8)\n",
    "    gradient = cv2.morphologyEx(mask, cv2.MORPH_GRADIENT , kernel)\n",
    "    cv2.imshow('Gradient_K{}'.format(str(i)) , gradient)\n",
    "    cv2.waitKey(0)\n",
    "\n",
    "print(\"The output image frames show the outline generated over the blue book and the blue object in top left.\")\n",
    "cv2.destroyAllWindows()"
   ]
  },
  {
   "cell_type": "markdown",
   "id": "4065c07c",
   "metadata": {},
   "source": [
    "#### Image Segmentatioin using morphological Operations"
   ]
  },
  {
   "cell_type": "raw",
   "id": "0b90303f",
   "metadata": {},
   "source": [
    "We have already seen the morphological operations above, but now lets see how they create difference \n",
    "in the image processing. Segmentation with threshold and morphological operations are shown below for\n",
    "a good and positive comparision."
   ]
  },
  {
   "cell_type": "code",
   "execution_count": 21,
   "id": "9d77ba07",
   "metadata": {},
   "outputs": [],
   "source": [
    "\n",
    "img = cv2.imread('cvdata/morph_op.jpg',0)\n",
    "\n",
    "#Segmentation using Thresholding of the image\n",
    "image = cv2.resize(img, (0,0),fx=0.2,fy=0.2)\n",
    "\n",
    "ret, thres = cv2.threshold(image , 0, 255 , cv2.THRESH_BINARY_INV+ cv2.THRESH_OTSU)\n",
    "\n",
    "cv2.imshow('Bin_inv+Otsu_Thres', thres)\n",
    "cv2.waitKey(0)\n",
    "\n",
    "\n",
    "#Now performing the Opening/Closing morphological operation for comparision\n",
    "\n",
    "kernel = np.ones((10,10), np.uint8)\n",
    "closing = cv2.morphologyEx(thres, cv2.MORPH_CLOSE , kernel, 5)\n",
    "cv2.imshow('With only closing', closing)\n",
    "cv2.waitKey(0)\n",
    "\n",
    "#Applying erosion for better results\n",
    "\n",
    "ker = np.ones((5,5), np.uint8)\n",
    "erode_morph = cv2.erode(closing, ker , 5)\n",
    "cv2.imshow('erode_close', erode_morph)\n",
    "cv2.waitKey(0)\n",
    "\n",
    "# Finding foreground area\n",
    "dist_transform = cv2.distanceTransform(closing, cv2.DIST_L2, 5)\n",
    "ret, fg = cv2.threshold(dist_transform, 0.02\n",
    "                        * dist_transform.max(), 255, 0)\n",
    "\n",
    "cv2.imshow('fg_output', fg)\n",
    "cv2.waitKey(0)\n",
    "cv2.destroyAllWindows()"
   ]
  },
  {
   "cell_type": "markdown",
   "id": "9f7c2322",
   "metadata": {},
   "source": [
    "#### Image Pyramid"
   ]
  },
  {
   "cell_type": "raw",
   "id": "36fcb677",
   "metadata": {},
   "source": [
    "The pyrUp() function increases the size to double of its original size and pyrDown() function decreases the size to half. If we keep the original image as a base image and go on applying pyrDown function on it and keep the images in a vertical stack, it will look like a pyramid. The same is true for upscaling the original image by pyrUp function."
   ]
  },
  {
   "cell_type": "code",
   "execution_count": 29,
   "id": "2adf3740",
   "metadata": {},
   "outputs": [],
   "source": [
    "image = cv2.imread('cvdata/im1.jpg')\n",
    "\n",
    "layer = image.copy()\n",
    "\n",
    "for i in range(4):\n",
    "    layer = cv2.pyrUp(layer)\n",
    "    cv2.imshow('Layer_{}'.format(i+1), layer)\n",
    "    cv2.waitKey(0)\n",
    "\n",
    "    \n",
    "cv2.destroyAllWindows()"
   ]
  },
  {
   "cell_type": "code",
   "execution_count": null,
   "id": "8747e80f",
   "metadata": {},
   "outputs": [],
   "source": []
  }
 ],
 "metadata": {
  "kernelspec": {
   "display_name": "Python 3",
   "language": "python",
   "name": "python3"
  },
  "language_info": {
   "codemirror_mode": {
    "name": "ipython",
    "version": 3
   },
   "file_extension": ".py",
   "mimetype": "text/x-python",
   "name": "python",
   "nbconvert_exporter": "python",
   "pygments_lexer": "ipython3",
   "version": "3.8.8"
  }
 },
 "nbformat": 4,
 "nbformat_minor": 5
}
