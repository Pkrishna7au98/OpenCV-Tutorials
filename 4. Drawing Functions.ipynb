{
 "cells": [
  {
   "cell_type": "markdown",
   "id": "cb59d9c5",
   "metadata": {},
   "source": [
    "### Drawing Functions on the images"
   ]
  },
  {
   "cell_type": "raw",
   "id": "0591750d",
   "metadata": {},
   "source": [
    "1. cv2.line() >> image = cv2.Line(image, start_point, end_point,color, thickness)\n",
    "\n",
    "2. cv2.arrowedLine() >> image = cv2.arrowedLine(image, start_point, end_point,color, thickness)\n",
    "\n",
    "3. cv2.ellipse() >> image = cv2.ellipse(image, center_coordinates, axesLength,angle, startAngle, endAngle, color, thickness)\n",
    "\n",
    "4. cv2.circle() >> image = cv2.circle(image, center_coordinates, radius, color, thickness)\n",
    "\n",
    "5. cv2.rectangle() >> image = cv2.rectangle(image, start_point, end_point, color, thickness)\n",
    "\n",
    "6. cv2.putText() >> image = cv2.putText(image, 'OpenCV', origin, font, fontScale, color, thickness, cv2.LINE_AA)\n",
    "\n",
    "7. Draw a triangle with centroid using OpenCV >> Create a black window with three color channels with resolution 400 x 300. Draw three lines which are passing through the given points using the inbuilt line function of the OpenCV. It will create a triangle on the black window. Find the centroid of the triangle using the following simple formula.\n",
    "\n",
    "  (X, Y) =  {x1+x2+x3}/{3}, {y1+y2+y3}/{3}\n",
    "\n",
    "Draw this centroid on the black window using circle function of OpenCV with zero thickness."
   ]
  },
  {
   "cell_type": "code",
   "execution_count": 1,
   "id": "55c913b0",
   "metadata": {},
   "outputs": [],
   "source": [
    "import cv2 \n",
    "import numpy as np\n",
    "import matplotlib.pyplot as plt"
   ]
  },
  {
   "cell_type": "code",
   "execution_count": 43,
   "id": "efd8eea4",
   "metadata": {},
   "outputs": [
    {
     "name": "stdout",
     "output_type": "stream",
     "text": [
      "the width is 411 and height is 400\n",
      "Coordinates of the circle center are 116 and 173\n"
     ]
    }
   ],
   "source": [
    "image  = cv2.imread('cvdata/bh.png')\n",
    "w,h = image.shape[:2]\n",
    "print(\"the width is {} and height is {}\".format(w,h))\n",
    "#Drawing Line \n",
    "\n",
    "img_line = cv2.line(image, (10,10) , (300,275), (255,33,263), 2)\n",
    "\n",
    "cv2.imshow('img_line', img_line)\n",
    "cv2.waitKey(0)\n",
    "\n",
    "#Drawing Arrowed Line\n",
    "img_arrline = cv2.arrowedLine(image, (10,10) , (300,275), (255,33,263), 2)\n",
    "cv2.imshow('img_arrline', img_arrline)\n",
    "cv2.waitKey(0)\n",
    "\n",
    "#Drawing an Ellipse\n",
    "img_ellipse = cv2.ellipse(image, (205,200) , (100,50),0,0,245,(0,0,255), 2)\n",
    "cv2.imshow('img_ellipse', img_ellipse)\n",
    "cv2.waitKey(0)\n",
    "\n",
    "#Drawing a circle\n",
    "img_circle = cv2.circle(image, (345,200), 40, (219,261,261), 3)\n",
    "cv2.imshow('img_circle', img_circle)\n",
    "cv2.waitKey(0)\n",
    "\n",
    "#Drawing a Rectangle\n",
    "img_rectangle = cv2.rectangle(image, (50,50),(180,180),(150,250,150),3)\n",
    "cv2.imshow('img_rectangle', img_rectangle)\n",
    "cv2.waitKey(0)\n",
    "\n",
    "#Putting text on the image\n",
    "img_text = cv2.putText(image, \"My name is Krishna\", (50,350), cv2.FONT_HERSHEY_COMPLEX , 1, (120,220,120), 1, cv2.LINE_AA)\n",
    "cv2.imshow('img_text', img_text)\n",
    "cv2.waitKey(0)\n",
    "\n",
    "#Drawing a triangle with centroid\n",
    "\n",
    "#For this we will use another image becuase the previous one looks messy and doesnt make sense while applying all operation on\n",
    "#it only. So, lets take another image and perform the functions.\n",
    "\n",
    "img = cv2.imread('cvdata/mask_inpt.png')\n",
    "\n",
    "    #Firstly we will draw the triangle with help of three coordinates\n",
    "A = (50,250)\n",
    "B = (100,70)\n",
    "C = (200,200)\n",
    "    \n",
    "color = (255,0,0)\n",
    "\n",
    "    #Now calculating the circle center with given A,B and C values\n",
    "x = int((A[0] + B[0] +C[0])/3)\n",
    "y = int((A[1] + B[1] +C[1])/3)\n",
    "\n",
    "print(\"Coordinates of the circle center are {} and {}\".format(x,y))\n",
    "\n",
    "    #Now drawing the traingle with help of lines and the circle as centroid with the calculated x and y values\n",
    "cv2.line(img,A,B,color,2)\n",
    "cv2.line(img,B,C,color,2)\n",
    "cv2.line(img,C,A,color,2)\n",
    "\n",
    "cv2.circle(img,(x,y),4,color,0)\n",
    "\n",
    "\n",
    "cv2.imshow('tri_centroid', img)\n",
    "cv2.waitKey(0)\n",
    "cv2.destroyAllWindows()"
   ]
  },
  {
   "cell_type": "code",
   "execution_count": null,
   "id": "6f338755",
   "metadata": {},
   "outputs": [],
   "source": []
  }
 ],
 "metadata": {
  "kernelspec": {
   "display_name": "Python 3",
   "language": "python",
   "name": "python3"
  },
  "language_info": {
   "codemirror_mode": {
    "name": "ipython",
    "version": 3
   },
   "file_extension": ".py",
   "mimetype": "text/x-python",
   "name": "python",
   "nbconvert_exporter": "python",
   "pygments_lexer": "ipython3",
   "version": "3.8.8"
  }
 },
 "nbformat": 4,
 "nbformat_minor": 5
}
