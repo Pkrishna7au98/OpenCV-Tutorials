{
 "cells": [
  {
   "cell_type": "markdown",
   "id": "9461f08c",
   "metadata": {},
   "source": [
    "#### Line detection : Houghline method"
   ]
  },
  {
   "cell_type": "raw",
   "id": "565585db",
   "metadata": {},
   "source": [
    "Working of Houghline method:\n",
    "\n",
    "First it creates a 2D array or accumulator (to hold values of two parameters) and it is set to zero initially.\n",
    "Let rows denote the r and columns denote the (θ)theta.\n",
    "Size of array depends on the accuracy you need. Suppose you want the accuracy of angles to be 1 degree, you need 180 columns(Maximum degree for a straight line is 180).\n",
    "For r, the maximum distance possible is the diagonal length of the image. So taking one pixel accuracy, number of rows can be diagonal length of the image."
   ]
  },
  {
   "cell_type": "code",
   "execution_count": 1,
   "id": "96c86f05",
   "metadata": {},
   "outputs": [],
   "source": [
    "import cv2\n",
    "import numpy as np\n",
    "import matplotlib.pyplot as plt"
   ]
  },
  {
   "cell_type": "code",
   "execution_count": 2,
   "id": "81366026",
   "metadata": {},
   "outputs": [],
   "source": [
    "image= cv2.imread('cvdata/hough2.png')\n",
    "img = cv2.cvtColor(image, cv2.COLOR_BGR2GRAY)\n",
    "cv2.imshow('Original', img)\n",
    "cv2.waitKey(0)\n",
    "\n",
    "# Apply edge detection method on the image\n",
    "edges = cv2.Canny(img, 50, 200)\n",
    "# This returns an array of r and theta values\n",
    "lines = cv2.HoughLines(edges, 1, np.pi/180, 200)\n",
    "\n",
    "\n",
    "# The below for loop runs till r and theta values \n",
    "# are in the range of the 2d array\n",
    "try:\n",
    "    for i in range(len(lines)):\n",
    "        for rho, theta in lines[i]:\n",
    "\n",
    "            a = np.cos(theta)\n",
    "            b = np.sin(theta)\n",
    "\n",
    "            x0 = rho * a\n",
    "            y0 = rho * b\n",
    "\n",
    "            x1 = int(x0 + 1000*(-b))\n",
    "            y1 = int(y0 + 1000*(a))\n",
    "\n",
    "            x2 = int(x0 - 1000*(-b))\n",
    "            y2 = int(y0 - 1000*(a))\n",
    "\n",
    "            #cv2.line draws a line in img from the point(x1,y1) to (x2,y2)\n",
    "            cv2.line(img, (x1,y1), (x2,y2),(102,0,102) , 2)\n",
    "\n",
    "except:\n",
    "    print(\"Something went wrong\")\n",
    "    \n",
    "\n",
    "cv2.imshow(\"Canny_Edges\", edges)\n",
    "cv2.waitKey(0)\n",
    "\n",
    "LD_image = cv2.cvtColor(img, cv2.COLOR_GRAY2BGR)\n",
    "\n",
    "cv2.imshow(\"Line_Detected\", LD_image)\n",
    "cv2.waitKey(0)\n",
    "cv2.destroyAllWindows()"
   ]
  },
  {
   "cell_type": "markdown",
   "id": "b3959835",
   "metadata": {},
   "source": [
    "#### Circle Detection "
   ]
  },
  {
   "cell_type": "raw",
   "id": "5c01fe59",
   "metadata": {},
   "source": [
    "Below are the steps of the algorithm.\n",
    "\n",
    "Initializing the Accumulator Matrix: Initialize a matrix of dimensions rows * cols * maxRadius with zeros.\n",
    "Pre-processing the image: Apply blurring, grayscale and an edge detector on the image. This is done to ensure the circles show as darkened image edges.\n",
    "Looping through the points: Pick a point x_i on the image.\n",
    "Fixing r and looping through a and b: Use a double nested loop to find a value of r, varying a and b in the given ranges.\n",
    "\n",
    "for a in range(rows):\n",
    "    for b in range(cols):\n",
    "        r = math.sqrt((xi - a)**2 + (yi - b)**2)\n",
    "        accum_matrix[a][b][r] += 1\n",
    "        \n",
    "Voting: Pick the points in the accumulator matrix with the maximum value. These are strong points which indicate the existence of a circle with a, b and r parameters. This gives us the Hough space of circles.\n",
    "Finding Circles: Finally, using the above circles as candidate circles, vote according to the image. The maximum voted circle in the accumulator matrix gives us the circle.\n",
    "\n",
    "\n",
    "The HoughCircles function in OpenCV has the following parameters:\n",
    "\n",
    "Source: Edged and blurred source\n",
    "\n",
    "Detection Method: OpenCV has an advanced implementation, HOUGH_GRADIENT, which uses gradient of the edges instead of filling up the entire 3D accumulator matrix, thereby speeding up the process.\n",
    "\n",
    "dp: This is the ratio of the resolution of original image to the accumulator matrix.\n",
    "\n",
    "minDist: This parameter controls the minimum distance between detected circles.\n",
    "\n",
    "Param1: Canny edge detection requires two parameters — minVal and maxVal. Param1 is the higher threshold of the two. The second one is set as Param1/2.\n",
    "\n",
    "Param2: This is the accumulator threshold for the candidate detected circles. By increasing this threshold value, we can ensure that only the best circles, corresponding to larger accumulator values, are returned.\n",
    "\n",
    "minRadius: Minimum circle radius.\n",
    "maxRadius: Maximum circle radius."
   ]
  },
  {
   "cell_type": "code",
   "execution_count": 50,
   "id": "5f2792df",
   "metadata": {},
   "outputs": [],
   "source": [
    "image = cv2.imread('cvdata/circle.jpg')\n",
    "cv2.imshow('Original', image)\n",
    "cv2.waitKey(0)\n",
    "\n",
    "grayed = cv2.cvtColor(image, cv2.COLOR_BGR2GRAY)\n",
    "\n",
    "#Edge detection\n",
    "edges = cv2.Canny(grayed, 30,100)\n",
    "cv2.imshow('Edges_Canny', edges)\n",
    "cv2.waitKey(0)\n",
    "\n",
    "\n",
    "#Detecting the Circles using HoughCircle Algorithm\n",
    "\n",
    "detected_circles = cv2.HoughCircles(edges, cv2.HOUGH_GRADIENT ,1, 20 , param1 = 50, param2 =20, minRadius = 1 , maxRadius=60 )\n",
    "\n",
    "try:\n",
    "    detected_circles = np.uint16(np.around(detected_circles))\n",
    "except:\n",
    "    print(\"No circles detected\")\n",
    "    \n",
    "\n",
    "for i in range(len(detected_circles)):\n",
    "    for pt in detected_circles[0, :]:\n",
    "        a, b, r = pt[0], pt[1], pt[2]\n",
    "\n",
    "        #Drawing the cirlces\n",
    "        cv2.circle(image , (a,b),r,(0,255,0),2)\n",
    "\n",
    "        cv2.imshow('Detected Circles', image)\n",
    "    cv2.waitKey(0)\n",
    "\n",
    "cv2.destroyAllWindows()"
   ]
  },
  {
   "cell_type": "markdown",
   "id": "697a6ae0",
   "metadata": {},
   "source": [
    "#### Detecting Corners of the images"
   ]
  },
  {
   "cell_type": "code",
   "execution_count": null,
   "id": "3eb5ae8c",
   "metadata": {},
   "outputs": [],
   "source": [
    "cv2.goodFeaturesToTrack() method finds N strongest corners in the image by Shi-Tomasi method. Note that the image should be a grayscale image. Specify the number of corners you want to find and the quality level (which is a value between 0-1). It denotes the minimum quality of corner below which everyone is rejected. Then provide the minimum Euclidean distance between corners detected.\n",
    "\n",
    "Syntax : cv2.goodFeaturesToTrack(image, maxCorners, qualityLevel, minDistance[, corners[, mask[, blockSize[, useHarrisDetector[, k]]]]])"
   ]
  }
 ],
 "metadata": {
  "kernelspec": {
   "display_name": "Python 3",
   "language": "python",
   "name": "python3"
  },
  "language_info": {
   "codemirror_mode": {
    "name": "ipython",
    "version": 3
   },
   "file_extension": ".py",
   "mimetype": "text/x-python",
   "name": "python",
   "nbconvert_exporter": "python",
   "pygments_lexer": "ipython3",
   "version": "3.8.8"
  }
 },
 "nbformat": 4,
 "nbformat_minor": 5
}
