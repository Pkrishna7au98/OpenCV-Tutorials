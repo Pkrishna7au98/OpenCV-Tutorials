{
 "cells": [
  {
   "cell_type": "markdown",
   "id": "eb72fa76",
   "metadata": {},
   "source": [
    "### Intensity Transformation Operations on Images"
   ]
  },
  {
   "cell_type": "code",
   "execution_count": 1,
   "id": "ee02be21",
   "metadata": {},
   "outputs": [],
   "source": [
    "import cv2\n",
    "import numpy as np\n",
    "import matplotlib.pyplot as plt"
   ]
  },
  {
   "cell_type": "markdown",
   "id": "def87157",
   "metadata": {},
   "source": [
    "#### Method 1 - Image Negatives\n"
   ]
  },
  {
   "cell_type": "raw",
   "id": "33a790db",
   "metadata": {},
   "source": [
    "First method: Steps for negative transformation\n",
    "\n",
    "Read an image\n",
    "Get height and width of the image\n",
    "Each pixel contains 3 channels. So, take a pixel value and collect 3 channels in 3 different variables.\n",
    "Negate 3 pixels values from 255 and store them again in pixel used before.\n",
    "Do it for all pixel values present in image."
   ]
  },
  {
   "cell_type": "code",
   "execution_count": 2,
   "id": "9fe32eac",
   "metadata": {},
   "outputs": [
    {
     "name": "stdout",
     "output_type": "stream",
     "text": [
      "Width and Height of image 251 201\n"
     ]
    }
   ],
   "source": [
    "image = cv2.imread('cvdata/im1.jpg')\n",
    "cv2.imshow('Original Image', image)\n",
    "\n",
    "w,h= image.shape[:2]\n",
    "print(\"Width and Height of image\",w,h)\n",
    "\n",
    "for i in range(w-1):\n",
    "    for j in range(h-1):\n",
    "        \n",
    "        pixel = image[i,j]\n",
    "        \n",
    "        pixel[0] = 256 - pixel[0]\n",
    "        pixel[1] = 256 - pixel[1]\n",
    "        pixel[2] = 256 - pixel[2]\n",
    "        \n",
    "        image[i,j] = pixel\n",
    "        \n",
    "cv2.imshow('Image Negative', image)\n",
    "cv2.waitKey(0)\n",
    "cv2.destroyAllWindows()"
   ]
  },
  {
   "cell_type": "markdown",
   "id": "9de9ee20",
   "metadata": {},
   "source": [
    "#### Method-2 Log Transformations"
   ]
  },
  {
   "cell_type": "raw",
   "id": "93cc3f28",
   "metadata": {},
   "source": [
    "Mathematically, log transformations can be expressed as s = clog(1+r). Here, s is the output intensity, r>=0 is the input intensity of the pixel, and c is a scaling constant. c is given by 255/(log (1 + m)), where m is the maximum pixel value in the image. It is done to ensure that the final pixel value does not exceed (L-1), or 255. Practically, log transformation maps a narrow range of low-intensity input values to a wide range of output values."
   ]
  },
  {
   "cell_type": "code",
   "execution_count": 3,
   "id": "1e202546",
   "metadata": {},
   "outputs": [],
   "source": [
    "img = cv2.imread('cvdata/logt.jpg')\n",
    "\n",
    "image = cv2.resize(img,(0,0),fx=0.4,fy=0.4)\n",
    "\n",
    "cv2.imshow('Original Image', image)\n",
    "\n",
    "#To calculate the S or Log transformed first we need to calculate the Scaling Constant C and before \n",
    "#that we need the max pixel value of the input image\n",
    "\n",
    "m = np.max(image)\n",
    "\n",
    "c = 255 / np.log (1 + m)\n",
    "\n",
    "Log_Transformed = c*np.log(1+image)\n",
    "\n",
    "LT = np.array(Log_Transformed,  np.uint8)\n",
    "\n",
    "cv2.imshow('Log_Transformed', LT)\n",
    "cv2.waitKey(0)\n",
    "cv2.destroyAllWindows()"
   ]
  },
  {
   "cell_type": "markdown",
   "id": "ac4b8dc2",
   "metadata": {},
   "source": [
    "#### Method 3 - Power-Law (Gamma) Transformation "
   ]
  },
  {
   "cell_type": "code",
   "execution_count": 4,
   "id": "956c0cb8",
   "metadata": {},
   "outputs": [],
   "source": [
    "image = cv2.imread('cvdata/gamma.jpg')\n",
    "img1 = cv2.resize(img,(0,0),fx=0.3,fy=0.3)\n",
    "cv2.imshow('Original', img1)\n",
    "\n",
    "gammavals = [0.3,0.7,1.3,2.0]\n",
    "\n",
    "for i in gammavals:\n",
    "    gamma = np.array(255*(img1 / 255)**i, dtype = 'uint8' )\n",
    "    cv2.imshow('Gamma_{}'.format(i), gamma)\n",
    "    \n",
    "cv2.waitKey(0)\n",
    "cv2.destroyAllWindows()"
   ]
  },
  {
   "cell_type": "markdown",
   "id": "d9795020",
   "metadata": {},
   "source": [
    "#### Method 4 - Piecewise Linear Transformation"
   ]
  },
  {
   "cell_type": "code",
   "execution_count": 5,
   "id": "9c4e9a43",
   "metadata": {},
   "outputs": [],
   "source": [
    "#Defining a function to map the input values with ouput values\n",
    "\n",
    "r1 = 70\n",
    "r2 = 140\n",
    "s1 = 0\n",
    "s2 = 255\n",
    "\n",
    "def pixelval(pix, r1,s1,r2,s2):\n",
    "    if (0 <= pix and pix <= r1):\n",
    "        return (s1 / r1)*pix\n",
    "    elif (r1 < pix and pix <= r2):\n",
    "        return ((s2 - s1)/(r2 - r1)) * (pix - r1) + s1\n",
    "    else:\n",
    "        return ((255 - s2)/(255 - r2)) * (pix - r2) + s2\n",
    "    \n",
    "img = cv2.imread('cvdata/PLT.jpg')\n",
    "image = cv2.resize(img,(0,0),fx=.5, fy=.5)\n",
    "\n",
    "#Vectorizing the fucntion to be applied over all the pixels of input image\n",
    "pixelval_vec = np.vectorize(pixelval)\n",
    "\n",
    "#Applying the function to the all pixels of the image\n",
    "PLT_Output = pixelval_vec(image,r1,s1,r2,s2)\n",
    "\n",
    "cv2.imshow('Original_Image', image)\n",
    "cv2.imshow('Piece-Lin_Tranform', PLT_Output)\n",
    "cv2.waitKey(0)\n",
    "cv2.destroyAllWindows()"
   ]
  },
  {
   "cell_type": "markdown",
   "id": "f3d0d44a",
   "metadata": {},
   "source": [
    "### Image Registration"
   ]
  },
  {
   "cell_type": "raw",
   "id": "96d03141",
   "metadata": {},
   "source": [
    "1. Import 2 images\n",
    "2. Convert to gray scale\n",
    "3. Initiate ORB detector\n",
    "4. Find key points and the descriptors\n",
    "5. Match Keypoints  - Brute Force Matcher\n",
    "6. RANSC (Reject bad keypoints)\n",
    "7. Register two images (Homology)"
   ]
  },
  {
   "cell_type": "code",
   "execution_count": 6,
   "id": "5698a4da",
   "metadata": {},
   "outputs": [],
   "source": [
    "img1 = cv2.imread('cvdata/IRsample.jpg',0)\n",
    "imageA = cv2.resize(img1,(0,0), fx=.1 , fy=.1)\n",
    "img2 = cv2.imread('cvdata/IRref.jpg',0)\n",
    "imageB = cv2.resize(img2,(0,0), fx=.1 , fy=.1)\n",
    "\n",
    "cv2.imshow(\"Subject_img\", imageA)\n",
    "cv2.waitKey(0)\n",
    "cv2.imshow(\"Reference_img\", imageB)\n",
    "cv2.waitKey(0)\n",
    "\n",
    "#Initiate ORB\n",
    "\n",
    "orb = cv2.ORB_create(7000)\n",
    "\n",
    "#GETTING THE KEYPOINTS AND DESCRIPTORS\n",
    "\n",
    "kp1, des1 = orb.detectAndCompute(imageA, None)\n",
    "kp2, des2 = orb.detectAndCompute(imageB, None)\n",
    "\n",
    "\n",
    "\n",
    "#Matcher (it just matches the descriptors of one image with the other one)\n",
    "\n",
    "matcher = cv2.DescriptorMatcher_create(cv2.DESCRIPTOR_MATCHER_BRUTEFORCE_HAMMING)\n",
    "\n",
    "matches = matcher.match(des1, des2,None)\n",
    "\n",
    "matches = sorted(matches, key = lambda x:x.distance)\n",
    "\n",
    "\n",
    "img3 = cv2.drawMatches(imageA, kp1, imageB, kp2,matches[:40] ,None)\n",
    "\n",
    "\n",
    "points1 = np.zeros((len(matches), 2), dtype = np.float32)\n",
    "points2 = np.zeros((len(matches), 2), dtype = np.float32)\n",
    "\n",
    "for i,match in enumerate(matches):\n",
    "    points1[i,:] = kp1[match.queryIdx].pt\n",
    "    points2[i,:] = kp2[match.trainIdx].pt\n",
    "\n",
    "#Homography\n",
    "\n",
    "h, mask = cv2.findHomography(points1,points2, cv2.RANSAC)\n",
    "\n",
    "#Using this homography\n",
    "\n",
    "height, width = imageB.shape[:2]\n",
    "\n",
    "im1Reg = cv2.warpPerspective(imageA, h, (width, height))\n",
    "\n",
    "cv2.imshow(\"Registered_Image\", im1Reg)\n",
    "cv2.waitKey(0)\n",
    "\n",
    "cv2.destroyAllWindows()\n",
    "\n",
    "\n"
   ]
  },
  {
   "cell_type": "markdown",
   "id": "27464823",
   "metadata": {},
   "source": [
    "#### Background Subtraction"
   ]
  },
  {
   "cell_type": "raw",
   "id": "f9538821",
   "metadata": {},
   "source": [
    "BackgroundSubtractorMOG : It is a gaussian mixture based background segmentation algorithm.\n",
    "BackgroundSubtractorMOG2: It uses the same concept but the major advantage that it provides is in terms of stability even when there is change in luminosity and better identification capability of shadows in the frames.\n",
    "Geometric multigrid: It makes uses of statistical method and per pixel bayesin segmentation algorithm."
   ]
  },
  {
   "cell_type": "markdown",
   "id": "e5f6a0df",
   "metadata": {},
   "source": [
    "###### Method 1 : "
   ]
  },
  {
   "cell_type": "code",
   "execution_count": 7,
   "id": "0046a367",
   "metadata": {},
   "outputs": [],
   "source": [
    "cap = cv2.VideoCapture('cvdata/subtract.mp4')\n",
    "\n",
    "fgbg = cv2.createBackgroundSubtractorMOG2()\n",
    "\n",
    "while(1):\n",
    "    ret, frame = cap.read()\n",
    "    \n",
    "    fgmask = fgbg.apply(frame)\n",
    "    cv2.imshow('mask', fgmask)\n",
    "    cv2.imshow('subtracted_img', frame)\n",
    "    k = cv2.waitKey(30) & 0xff\n",
    "    if k == 27:\n",
    "        break\n",
    "\n",
    "cap.release()   \n",
    "cv2.destroyAllWindows()"
   ]
  },
  {
   "cell_type": "markdown",
   "id": "d430ffa7",
   "metadata": {},
   "source": [
    "###### Method 2: "
   ]
  },
  {
   "cell_type": "code",
   "execution_count": 8,
   "id": "5c55e072",
   "metadata": {},
   "outputs": [],
   "source": [
    "cap = cv2.VideoCapture(0)\n",
    "\n",
    "ret ,frame = cap.read()\n",
    "\n",
    "avgvalue = np.float32(frame)\n",
    "\n",
    "while(1):\n",
    "    ret,frame = cap.read()\n",
    "    cv2.accumulateWeighted(frame, avgvalue, 0.06)\n",
    "    \n",
    "    resulting_frame = cv2.convertScaleAbs(avgvalue)\n",
    "    \n",
    "    \n",
    "    cv2.imshow('original', frame)\n",
    "    cv2.imshow('result_Run_Avg', resulting_frame)\n",
    "    \n",
    "    k = cv2.waitKey(30) & 0xff\n",
    "    if k == 27:\n",
    "        break\n",
    "    \n",
    "cap.release()\n",
    "cv2.destroyAllWindows()"
   ]
  },
  {
   "cell_type": "markdown",
   "id": "bd3d53d9",
   "metadata": {},
   "source": [
    "#### Foreground Extraction in an Image using Grabcut Algorithm"
   ]
  },
  {
   "cell_type": "raw",
   "id": "fe3bcaf2",
   "metadata": {},
   "source": [
    "Syntax: cv2.grabCut(image, mask, rectangle, backgroundModel, foregroundModel, iterationCount[, mode])\n",
    "\n",
    "Parameters:\n",
    "\n",
    "image: Input 8-bit 3-channel image.\n",
    "\n",
    "mask: Input/output 8-bit single-channel mask. The mask is initialized by the function when mode is set to GC_INIT_WITH_RECT. Its elements may have one of following values:\n",
    "    GC_BGD defines an obvious background pixels.\n",
    "    GC_FGD defines an obvious foreground (object) pixel.\n",
    "    GC_PR_BGD defines a possible background pixel.\n",
    "    GC_PR_FGD defines a possible foreground pixel.\n",
    "    \n",
    "rectangle: It is the region of interest containing a segmented object. The pixels outside of the ROI are marked as obvious background. The parameter is only used when mode==GC_INIT_WITH_RECT.\n",
    "\n",
    "backgroundModel: Temporary array for the background model.\n",
    "foregroundModel: Temporary array for the foreground model\n",
    "\n",
    "iterationCount: Number of iterations the algorithm should make before returning the result. Note that the result can be refined with further calls with mode==GC_INIT_WITH_MASK or mode==GC_EVAL.\n",
    "\n",
    "mode: It defines the Operation mode. It can be one of the following:\n",
    "        GC_INIT_WITH_RECT: The function initializes the state and the mask using the provided rectangle. After that it runs iterCount iterations of the algorithm.\n",
    "        GC_INIT_WITH_MASK: The function initializes the state using the provided mask. Note that GC_INIT_WITH_RECT and GC_INIT_WITH_MASK can be combined. Then, all the pixels outside of the ROI are automatically initialized with GC_BGD.\n",
    "        GC_EVAL: The value means that the algorithm should just resume."
   ]
  },
  {
   "cell_type": "code",
   "execution_count": 40,
   "id": "335f2693",
   "metadata": {
    "scrolled": true
   },
   "outputs": [
    {
     "name": "stdout",
     "output_type": "stream",
     "text": [
      "Width and Height :  281 500\n"
     ]
    },
    {
     "data": {
      "image/png": "[encoded data removed]",
      "text/plain": [
       "<Figure size 432x288 with 2 Axes>"
      ]
     },
     "metadata": {
      "needs_background": "light"
     },
     "output_type": "display_data"
    }
   ],
   "source": [
    "sample = cv2.imread('cvdata/fgsubtract.jpg')\n",
    "cv2.imshow('Original Image', sample)\n",
    "cv2.waitKey(0)\n",
    "\n",
    "w,h = sample.shape[:2]\n",
    "print(\"Width and Height : \" , w,h)\n",
    "#Now we need to create a mask similar to the size of the image\n",
    "\n",
    "mask = np.zeros((w,h) , np.uint8)\n",
    "\n",
    "#Now creating the Foreground and Background models\n",
    "\n",
    "foregroundModel = np.zeros((1,65), np.float64)\n",
    "backgroundModel = np.zeros((1,65), np.float64)\n",
    "\n",
    "#Creating the rectangle\n",
    "#Its the ROI where (startingPoint_x, startingPoint_y, width, height) are parameters\n",
    "\n",
    "rectangle = (20,100,210,420)\n",
    "\n",
    "#Applying the grabcut method with above parameteres\n",
    "\n",
    "grabcut = cv2.grabCut(sample,mask,rectangle,backgroundModel,foregroundModel,2,cv2.GC_INIT_WITH_RECT)\n",
    "\n",
    "#the values of the mask are changed now\n",
    "mask2 = np.where((mask == 2)|(mask == 0), 0, 1).astype('uint8')\n",
    "\n",
    "output = sample*mask2[: ,  :, np.newaxis]\n",
    "\n",
    "plt.imshow(output)\n",
    "plt.colorbar()\n",
    "plt.show()\n",
    "cv2.destroyAllWindows()"
   ]
  },
  {
   "cell_type": "code",
   "execution_count": null,
   "id": "20465463",
   "metadata": {
    "scrolled": true
   },
   "outputs": [],
   "source": []
  },
  {
   "cell_type": "code",
   "execution_count": null,
   "id": "58a811fe",
   "metadata": {},
   "outputs": [],
   "source": []
  }
 ],
 "metadata": {
  "kernelspec": {
   "display_name": "Python 3",
   "language": "python",
   "name": "python3"
  },
  "language_info": {
   "codemirror_mode": {
    "name": "ipython",
    "version": 3
   },
   "file_extension": ".py",
   "mimetype": "text/x-python",
   "name": "python",
   "nbconvert_exporter": "python",
   "pygments_lexer": "ipython3",
   "version": "3.8.8"
  }
 },
 "nbformat": 4,
 "nbformat_minor": 5
}
